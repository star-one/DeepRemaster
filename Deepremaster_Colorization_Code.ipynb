{
  "nbformat": 4,
  "nbformat_minor": 0,
  "metadata": {
    "accelerator": "GPU",
    "colab": {
      "private_outputs": true,
      "provenance": [],
      "include_colab_link": true
    },
    "kernelspec": {
      "display_name": "Python 3",
      "name": "python3"
    }
  },
  "cells": [
    {
      "cell_type": "markdown",
      "metadata": {
        "id": "view-in-github",
        "colab_type": "text"
      },
      "source": [
        "<a href=\"https://colab.research.google.com/github/star-one/DeepRemaster/blob/main/Deepremaster_Colorization_Code.ipynb\" target=\"_parent\"><img src=\"https://colab.research.google.com/assets/colab-badge.svg\" alt=\"Open In Colab\"/></a>"
      ]
    },
    {
      "cell_type": "code",
      "metadata": {
        "id": "-40qWPtfHYQi"
      },
      "source": [
        "!nvidia-smi"
      ],
      "execution_count": null,
      "outputs": []
    },
    {
      "cell_type": "code",
      "metadata": {
        "id": "nEHXZ-WUHoSk"
      },
      "source": [
        "!git clone https://github.com/LinixLinux/siggraphasia2019_remastering.git\n",
        "%cd /content/siggraphasia2019_remastering\n",
        "!bash download_model.sh"
      ],
      "execution_count": null,
      "outputs": []
    },
    {
      "cell_type": "code",
      "metadata": {
        "id": "Kd9AXQ5LIWRK"
      },
      "source": [
        "!python remaster.py --input Feel.mp4 --reference_dir References --gpu --mindim 360"
      ],
      "execution_count": null,
      "outputs": []
    }
  ]
}